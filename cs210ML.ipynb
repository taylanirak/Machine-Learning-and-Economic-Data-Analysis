{
 "cells": [
  {
   "cell_type": "code",
   "execution_count": 1,
   "id": "a8c21e44-65cd-437c-9a51-caf29ca97d67",
   "metadata": {},
   "outputs": [],
   "source": [
    "# Import necessary libraries\n",
    "import pandas as pd\n",
    "from sklearn.ensemble import RandomForestClassifier\n",
    "from sklearn.svm import SVC\n",
    "from sklearn.metrics import accuracy_score, classification_report\n",
    "from sklearn.model_selection import train_test_split, cross_val_score, StratifiedKFold\n",
    "from sklearn.preprocessing import StandardScaler\n",
    "import os\n"
   ]
  },
  {
   "cell_type": "code",
   "execution_count": 2,
   "id": "cf655412-facf-4b5d-a36e-ceb85237d14c",
   "metadata": {},
   "outputs": [],
   "source": [
    "# Load the data\n",
    "cpi_data = pd.read_csv('C:/Users/tayla/OneDrive/Masaüstü/arsiv/CPALTT01USM657N (1).csv')\n",
    "gdp_data = pd.read_csv('C:/Users/tayla/OneDrive/Masaüstü/arsiv/GDP (2).csv')\n",
    "stock_data = pd.read_csv('C:/Users/tayla/OneDrive/Masaüstü/arsiv/Stock Market Dataset.csv')\n",
    "unemployment_data = pd.read_csv('C:/Users/tayla/OneDrive/Masaüstü/arsiv/UNRATE (2).csv')\n"
   ]
  },
  {
   "cell_type": "code",
   "execution_count": 3,
   "id": "2c232827-22c2-4fea-9056-194fc67f28a6",
   "metadata": {},
   "outputs": [],
   "source": [
    "# Ensure consistent date formats and set dates as index\n",
    "cpi_data['DATE'] = pd.to_datetime(cpi_data['DATE'])\n",
    "gdp_data['DATE'] = pd.to_datetime(gdp_data['DATE'])\n",
    "unemployment_data['DATE'] = pd.to_datetime(unemployment_data['DATE'])\n",
    "stock_data['Date'] = pd.to_datetime(stock_data['Date'], dayfirst=True)\n",
    "\n",
    "cpi_data.set_index('DATE', inplace=True)\n",
    "gdp_data.set_index('DATE', inplace=True)\n",
    "unemployment_data.set_index('DATE', inplace=True)\n",
    "stock_data.set_index('Date', inplace=True)\n",
    "\n",
    "# Sort indexes to ensure proper slicing\n",
    "cpi_data = cpi_data.sort_index()\n",
    "gdp_data = gdp_data.sort_index()\n",
    "unemployment_data = unemployment_data.sort_index()\n",
    "stock_data = stock_data.sort_index()\n"
   ]
  },
  {
   "cell_type": "code",
   "execution_count": 4,
   "id": "4134633f-ec77-4ea2-914b-f6f11b7a76d3",
   "metadata": {},
   "outputs": [
    {
     "name": "stdout",
     "output_type": "stream",
     "text": [
      "CPI Date Range: 1960-01-01 00:00:00 to 2024-03-01 00:00:00\n",
      "GDP Date Range: 1947-01-01 00:00:00 to 2024-01-01 00:00:00\n",
      "Unemployment Date Range: 1948-01-01 00:00:00 to 2024-02-01 00:00:00\n",
      "Stock Data Date Range: 2019-02-04 00:00:00 to 2024-02-02 00:00:00\n"
     ]
    }
   ],
   "source": [
    "# Print date ranges to debug\n",
    "print(\"CPI Date Range:\", cpi_data.index.min(), \"to\", cpi_data.index.max())\n",
    "print(\"GDP Date Range:\", gdp_data.index.min(), \"to\", gdp_data.index.max())\n",
    "print(\"Unemployment Date Range:\", unemployment_data.index.min(), \"to\", unemployment_data.index.max())\n",
    "print(\"Stock Data Date Range:\", stock_data.index.min(), \"to\", stock_data.index.max())\n"
   ]
  },
  {
   "cell_type": "code",
   "execution_count": 5,
   "id": "b339e334-5baf-4778-816a-46964651d8a1",
   "metadata": {},
   "outputs": [],
   "source": [
    "# Convert stock prices to numeric, handling errors\n",
    "stock_data = stock_data.apply(pd.to_numeric, errors='coerce')\n",
    "\n",
    "# Resample to monthly/quarterly for GDP\n",
    "gdp_data = gdp_data.resample('QE-DEC').mean()\n",
    "cpi_data = cpi_data.resample('ME').mean()\n",
    "unemployment_data = unemployment_data.resample('ME').mean()\n",
    "stock_data = stock_data.resample('ME').mean()\n"
   ]
  },
  {
   "cell_type": "code",
   "execution_count": 6,
   "id": "a0a2d862-2a89-4ad0-a5d4-922295f3d0ea",
   "metadata": {},
   "outputs": [],
   "source": [
    "# Filter data for the date range 2020-2024\n",
    "start_date = '2020-01-01'\n",
    "end_date = '2024-01-01'\n",
    "gdp_data = gdp_data[start_date:end_date]\n",
    "cpi_data = cpi_data[start_date:end_date]\n",
    "unemployment_data = unemployment_data[start_date:end_date]\n",
    "stock_data = stock_data[start_date:end_date]\n"
   ]
  },
  {
   "cell_type": "code",
   "execution_count": 7,
   "id": "370e24d5-ac75-438e-852a-7f8157995709",
   "metadata": {},
   "outputs": [
    {
     "name": "stdout",
     "output_type": "stream",
     "text": [
      "Filtered GDP Data Shape: (16, 1)\n",
      "Filtered CPI Data Shape: (48, 1)\n",
      "Filtered Unemployment Data Shape: (48, 1)\n",
      "Filtered Stock Data Shape: (48, 38)\n"
     ]
    }
   ],
   "source": [
    "# Print shapes of datasets to debug\n",
    "print(\"Filtered GDP Data Shape:\", gdp_data.shape)\n",
    "print(\"Filtered CPI Data Shape:\", cpi_data.shape)\n",
    "print(\"Filtered Unemployment Data Shape:\", unemployment_data.shape)\n",
    "print(\"Filtered Stock Data Shape:\", stock_data.shape)\n"
   ]
  },
  {
   "cell_type": "code",
   "execution_count": 8,
   "id": "c6a6a322-1f60-462e-b05a-33b6450a1f0c",
   "metadata": {},
   "outputs": [],
   "source": [
    "# Remove unnecessary columns\n",
    "problematic_columns = ['Unnamed: 0', 'Bitcoin_Price', 'Platinum_Price', 'Ethereum_Price', 'S&P_500_Price', 'Nasdaq_100_Price', 'Berkshire_Price', 'Gold_Price']\n",
    "stock_data = stock_data.drop(columns=problematic_columns, errors='ignore')\n"
   ]
  },
  {
   "cell_type": "code",
   "execution_count": 9,
   "id": "5afa15e2-9354-411c-8fc4-f4f875a95ac3",
   "metadata": {},
   "outputs": [
    {
     "name": "stdout",
     "output_type": "stream",
     "text": [
      "Combined Data Shape after dropna: (13, 33)\n",
      "Combined Data Head:\n",
      "                   GDP       CPI  Unemployment_Rate  Natural_Gas_Price  \\\n",
      "2020-09-30  21647.640  0.139275                7.8           2.274250   \n",
      "2020-12-31  22024.502  0.094148                6.7           2.584273   \n",
      "2021-03-31  22600.185  0.708327                6.1           2.622043   \n",
      "2021-06-30  23292.362  0.929066                5.9           3.280429   \n",
      "2021-09-30  23828.973  0.271597                4.7           5.142200   \n",
      "\n",
      "            Natural_Gas_Vol.  Crude_oil_Price  Crude_oil_Vol.  Copper_Price  \\\n",
      "2020-09-30     146865.500000        39.769000   301370.500000      3.026900   \n",
      "2020-12-31     135084.090909        47.068182   282186.363636      3.538523   \n",
      "2021-03-31      93239.565217        62.357391   425732.608696      4.080065   \n",
      "2021-06-30     120756.190476        71.525714   343877.142857      4.381619   \n",
      "2021-09-30     167342.000000        71.704500   363229.500000      4.265900   \n",
      "\n",
      "             Copper_Vol.  Bitcoin_Vol.  ...  Nvidia_Price   Nvidia_Vol.  \\\n",
      "2020-09-30   7728.500000  2.211326e+06  ...    128.158500  7.532350e+07   \n",
      "2020-12-31   3851.818182  1.327545e+05  ...    132.247273  2.328591e+07   \n",
      "2021-03-31  81462.608696  1.035952e+05  ...    128.759565  3.325783e+07   \n",
      "2021-06-30   7118.095238  1.474805e+05  ...    183.116190  4.666952e+07   \n",
      "2021-09-30   6265.000000  7.864600e+04  ...    219.003000  2.400750e+07   \n",
      "\n",
      "            Berkshire_Vol.  Netflix_Price  Netflix_Vol.  Amazon_Price  \\\n",
      "2020-09-30      451.500000     494.980000  5.662500e+06    158.065500   \n",
      "2020-12-31      411.818182     516.569091  3.525909e+06    159.887273   \n",
      "2021-03-31     2445.652174     518.123478  3.920870e+06    153.413043   \n",
      "2021-06-30     1480.952381     503.526190  3.621905e+06    168.740476   \n",
      "2021-09-30     1124.500000     589.999500  3.825000e+06    171.155000   \n",
      "\n",
      "             Amazon_Vol.  Meta_Price     Meta_Vol.      Gold_Vol.  \n",
      "2020-09-30  1.098750e+08  266.321500  2.371500e+07  275340.000000  \n",
      "2020-12-31  7.052864e+07  276.530909  1.654364e+07  173855.909091  \n",
      "2021-03-31  6.800478e+07  275.506957  2.162870e+07  220887.826087  \n",
      "2021-06-30  6.150571e+07  336.773333  1.586000e+07  206343.333333  \n",
      "2021-09-30  5.979950e+07  363.056500  1.636700e+07  170022.500000  \n",
      "\n",
      "[5 rows x 33 columns]\n"
     ]
    }
   ],
   "source": [
    "# Combine datasets\n",
    "combined_data = gdp_data.join(cpi_data, how='inner').join(unemployment_data, how='inner')\n",
    "combined_data.columns = ['GDP', 'CPI', 'Unemployment_Rate']\n",
    "combined_data = combined_data.join(stock_data, how='inner')\n",
    "\n",
    "# Drop rows with NaN values\n",
    "combined_data = combined_data.dropna()\n",
    "\n",
    "# Print intermediate steps to debug\n",
    "print(\"Combined Data Shape after dropna:\", combined_data.shape)\n",
    "print(\"Combined Data Head:\\n\", combined_data.head())\n"
   ]
  },
  {
   "cell_type": "code",
   "execution_count": 10,
   "id": "a2de68d4-51ea-4213-8b64-4a89b743e4d1",
   "metadata": {},
   "outputs": [],
   "source": [
    "# Calculate correlations\n",
    "correlation_results = {}\n",
    "indicators = ['GDP', 'CPI', 'Unemployment_Rate']\n",
    "\n",
    "for stock in stock_data.columns:\n",
    "    for indicator in indicators:\n",
    "        correlation = combined_data[indicator].corr(combined_data[stock])\n",
    "        correlation_results[(stock, indicator)] = correlation\n"
   ]
  },
  {
   "cell_type": "code",
   "execution_count": 11,
   "id": "8501a981-58a5-4f30-b515-0b98172b6110",
   "metadata": {},
   "outputs": [
    {
     "name": "stdout",
     "output_type": "stream",
     "text": [
      "The best correlation is between Berkshire_Vol. and GDP with a correlation of 0.8768444159067754\n"
     ]
    }
   ],
   "source": [
    "# Find the best correlation\n",
    "best_corr_pair = max(correlation_results, key=correlation_results.get)\n",
    "best_stock, best_indicator = best_corr_pair\n",
    "best_corr = correlation_results[best_corr_pair]\n",
    "\n",
    "print(f\"The best correlation is between {best_stock} and {best_indicator} with a correlation of {best_corr}\")\n"
   ]
  },
  {
   "cell_type": "code",
   "execution_count": 12,
   "id": "803d7eca-d60a-498d-92a7-fd28843c3c26",
   "metadata": {},
   "outputs": [],
   "source": [
    "# Filter data for the best stock and indicator\n",
    "filtered_data = combined_data[[best_indicator, best_stock]].dropna()\n",
    "\n",
    "# Create the binary target variable for the stock trend\n",
    "filtered_data['Stock_Trend'] = (filtered_data[best_stock].diff() > 0).astype(int)\n",
    "filtered_data = filtered_data.dropna()\n"
   ]
  },
  {
   "cell_type": "code",
   "execution_count": 13,
   "id": "00e81b86-7525-4460-8981-f7289e0f8290",
   "metadata": {},
   "outputs": [
    {
     "name": "stdout",
     "output_type": "stream",
     "text": [
      "Number of samples for splitting: 13\n"
     ]
    }
   ],
   "source": [
    "# Features and target variable\n",
    "X = filtered_data[[best_indicator, best_stock]]\n",
    "y = filtered_data['Stock_Trend']\n",
    "\n",
    "# Ensure there are enough samples for splitting\n",
    "print(f\"Number of samples for splitting: {len(y)}\")\n",
    "if len(y) < 10:\n",
    "    raise ValueError(\"Not enough samples to split the dataset.\")\n"
   ]
  },
  {
   "cell_type": "code",
   "execution_count": 14,
   "id": "a5fc877e-f9cc-43fd-9b3e-c1a22b924c4c",
   "metadata": {},
   "outputs": [
    {
     "name": "stdout",
     "output_type": "stream",
     "text": [
      "Random Forest Classifier CV Accuracy: 0.7666666666666666\n"
     ]
    }
   ],
   "source": [
    "# Cross-validation setup\n",
    "cv = StratifiedKFold(n_splits=5, shuffle=True, random_state=42)\n",
    "\n",
    "# Random Forest Classifier\n",
    "rf_model = RandomForestClassifier(n_estimators=100, random_state=42)\n",
    "rf_scores = cross_val_score(rf_model, X, y, cv=cv, scoring='accuracy')\n",
    "print(f\"Random Forest Classifier CV Accuracy: {rf_scores.mean()}\")\n"
   ]
  },
  {
   "cell_type": "code",
   "execution_count": 15,
   "id": "905a215b-15f2-4d92-a6a8-4114cde7d1e6",
   "metadata": {},
   "outputs": [
    {
     "name": "stdout",
     "output_type": "stream",
     "text": [
      "Support Vector Machine CV Accuracy: 0.7666666666666666\n"
     ]
    }
   ],
   "source": [
    "# Standardize the features for SVM\n",
    "scaler = StandardScaler()\n",
    "X_scaled = scaler.fit_transform(X)\n",
    "\n",
    "# SVM Classifier\n",
    "svm_model = SVC(kernel='rbf', random_state=42)\n",
    "svm_scores = cross_val_score(svm_model, X_scaled, y, cv=cv, scoring='accuracy')\n",
    "print(f\"Support Vector Machine CV Accuracy: {svm_scores.mean()}\")\n"
   ]
  },
  {
   "cell_type": "code",
   "execution_count": 16,
   "id": "8e4ad8bd-d653-4c10-9440-c20b305a4f02",
   "metadata": {},
   "outputs": [],
   "source": [
    "# Save the results to a local path\n",
    "local_path = 'C:/Users/tayla/OneDrive/Masaüstü/results/'\n",
    "\n",
    "# Ensure the directory exists\n",
    "os.makedirs(local_path, exist_ok=True)\n",
    "\n",
    "filtered_data.to_csv(local_path + 'proj_3_filtered_data.csv')\n"
   ]
  },
  {
   "cell_type": "code",
   "execution_count": 17,
   "id": "728fb0fe-4532-4003-a1fd-d55681871d57",
   "metadata": {},
   "outputs": [],
   "source": [
    "# Save feature importance (only for Random Forest)\n",
    "rf_model.fit(X, y)\n",
    "importances = rf_model.feature_importances_\n",
    "feature_names = X.columns\n",
    "feature_importance_df = pd.DataFrame(sorted(zip(importances, feature_names), reverse=True), columns=['Importance', 'Feature'])\n",
    "feature_importance_df.to_csv(local_path + 'proj_3_rf_feature_importance.csv', index=False)\n"
   ]
  }
 ],
 "metadata": {
  "kernelspec": {
   "display_name": "Python 3 (ipykernel)",
   "language": "python",
   "name": "python3"
  },
  "language_info": {
   "codemirror_mode": {
    "name": "ipython",
    "version": 3
   },
   "file_extension": ".py",
   "mimetype": "text/x-python",
   "name": "python",
   "nbconvert_exporter": "python",
   "pygments_lexer": "ipython3",
   "version": "3.10.8"
  }
 },
 "nbformat": 4,
 "nbformat_minor": 5
}
